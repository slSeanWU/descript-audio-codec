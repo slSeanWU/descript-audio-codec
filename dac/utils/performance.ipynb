{
 "cells": [
  {
   "cell_type": "code",
   "execution_count": 15,
   "metadata": {},
   "outputs": [],
   "source": [
    "import torch\n",
    "from torchprofile import profile_macs\n",
    "from dac.model.dac import DAC\n",
    "from torch import nn\n"
   ]
  },
  {
   "cell_type": "code",
   "execution_count": 3,
   "metadata": {},
   "outputs": [],
   "source": [
    "def get_model_macs(model, inputs) -> int:\n",
    "    return profile_macs(model, inputs)"
   ]
  },
  {
   "cell_type": "code",
   "execution_count": 12,
   "metadata": {},
   "outputs": [
    {
     "name": "stderr",
     "output_type": "stream",
     "text": [
      "c:\\Users\\hranw\\Documents\\GitHub\\descript-audio-codec\\venv\\Lib\\site-packages\\torch\\nn\\utils\\weight_norm.py:143: FutureWarning: `torch.nn.utils.weight_norm` is deprecated in favor of `torch.nn.utils.parametrizations.weight_norm`.\n",
      "  WeightNorm.apply(module, name, dim)\n"
     ]
    },
    {
     "name": "stdout",
     "output_type": "stream",
     "text": [
      "DAC model MACs: 146.90B\n"
     ]
    },
    {
     "name": "stderr",
     "output_type": "stream",
     "text": [
      "c:\\Users\\hranw\\Documents\\GitHub\\descript-audio-codec\\venv\\Lib\\site-packages\\torchprofile\\profile.py:22: UserWarning: No handlers found: \"aten::pad\". Skipped.\n",
      "  warnings.warn('No handlers found: \"{}\". Skipped.'.format(\n",
      "c:\\Users\\hranw\\Documents\\GitHub\\descript-audio-codec\\venv\\Lib\\site-packages\\torchprofile\\profile.py:22: UserWarning: No handlers found: \"aten::_weight_norm\". Skipped.\n",
      "  warnings.warn('No handlers found: \"{}\". Skipped.'.format(\n",
      "c:\\Users\\hranw\\Documents\\GitHub\\descript-audio-codec\\venv\\Lib\\site-packages\\torchprofile\\profile.py:22: UserWarning: No handlers found: \"prim::callfunction\". Skipped.\n",
      "  warnings.warn('No handlers found: \"{}\". Skipped.'.format(\n",
      "c:\\Users\\hranw\\Documents\\GitHub\\descript-audio-codec\\venv\\Lib\\site-packages\\torchprofile\\profile.py:22: UserWarning: No handlers found: \"aten::ones\". Skipped.\n",
      "  warnings.warn('No handlers found: \"{}\". Skipped.'.format(\n",
      "c:\\Users\\hranw\\Documents\\GitHub\\descript-audio-codec\\venv\\Lib\\site-packages\\torchprofile\\profile.py:22: UserWarning: No handlers found: \"aten::randint\". Skipped.\n",
      "  warnings.warn('No handlers found: \"{}\". Skipped.'.format(\n",
      "c:\\Users\\hranw\\Documents\\GitHub\\descript-audio-codec\\venv\\Lib\\site-packages\\torchprofile\\profile.py:22: UserWarning: No handlers found: \"aten::copy_\". Skipped.\n",
      "  warnings.warn('No handlers found: \"{}\". Skipped.'.format(\n",
      "c:\\Users\\hranw\\Documents\\GitHub\\descript-audio-codec\\venv\\Lib\\site-packages\\torchprofile\\profile.py:22: UserWarning: No handlers found: \"aten::permute\". Skipped.\n",
      "  warnings.warn('No handlers found: \"{}\". Skipped.'.format(\n",
      "c:\\Users\\hranw\\Documents\\GitHub\\descript-audio-codec\\venv\\Lib\\site-packages\\torchprofile\\profile.py:22: UserWarning: No handlers found: \"aten::reshape\". Skipped.\n",
      "  warnings.warn('No handlers found: \"{}\". Skipped.'.format(\n",
      "c:\\Users\\hranw\\Documents\\GitHub\\descript-audio-codec\\venv\\Lib\\site-packages\\torchprofile\\profile.py:22: UserWarning: No handlers found: \"aten::linalg_vector_norm\". Skipped.\n",
      "  warnings.warn('No handlers found: \"{}\". Skipped.'.format(\n",
      "c:\\Users\\hranw\\Documents\\GitHub\\descript-audio-codec\\venv\\Lib\\site-packages\\torchprofile\\profile.py:22: UserWarning: No handlers found: \"aten::clamp_min\". Skipped.\n",
      "  warnings.warn('No handlers found: \"{}\". Skipped.'.format(\n",
      "c:\\Users\\hranw\\Documents\\GitHub\\descript-audio-codec\\venv\\Lib\\site-packages\\torchprofile\\profile.py:22: UserWarning: No handlers found: \"aten::expand_as\". Skipped.\n",
      "  warnings.warn('No handlers found: \"{}\". Skipped.'.format(\n",
      "c:\\Users\\hranw\\Documents\\GitHub\\descript-audio-codec\\venv\\Lib\\site-packages\\torchprofile\\profile.py:22: UserWarning: No handlers found: \"aten::pow\". Skipped.\n",
      "  warnings.warn('No handlers found: \"{}\". Skipped.'.format(\n",
      "c:\\Users\\hranw\\Documents\\GitHub\\descript-audio-codec\\venv\\Lib\\site-packages\\torchprofile\\profile.py:22: UserWarning: No handlers found: \"aten::neg\". Skipped.\n",
      "  warnings.warn('No handlers found: \"{}\". Skipped.'.format(\n",
      "c:\\Users\\hranw\\Documents\\GitHub\\descript-audio-codec\\venv\\Lib\\site-packages\\torchprofile\\profile.py:22: UserWarning: No handlers found: \"aten::max\". Skipped.\n",
      "  warnings.warn('No handlers found: \"{}\". Skipped.'.format(\n",
      "c:\\Users\\hranw\\Documents\\GitHub\\descript-audio-codec\\venv\\Lib\\site-packages\\torchprofile\\profile.py:22: UserWarning: No handlers found: \"aten::broadcast_tensors\". Skipped.\n",
      "  warnings.warn('No handlers found: \"{}\". Skipped.'.format(\n",
      "c:\\Users\\hranw\\Documents\\GitHub\\descript-audio-codec\\venv\\Lib\\site-packages\\torchprofile\\profile.py:22: UserWarning: No handlers found: \"aten::mse_loss\". Skipped.\n",
      "  warnings.warn('No handlers found: \"{}\". Skipped.'.format(\n",
      "c:\\Users\\hranw\\Documents\\GitHub\\descript-audio-codec\\venv\\Lib\\site-packages\\torchprofile\\profile.py:22: UserWarning: No handlers found: \"aten::full\". Skipped.\n",
      "  warnings.warn('No handlers found: \"{}\". Skipped.'.format(\n",
      "c:\\Users\\hranw\\Documents\\GitHub\\descript-audio-codec\\venv\\Lib\\site-packages\\torchprofile\\profile.py:22: UserWarning: No handlers found: \"aten::unsqueeze\". Skipped.\n",
      "  warnings.warn('No handlers found: \"{}\". Skipped.'.format(\n"
     ]
    }
   ],
   "source": [
    "model = DAC()\n",
    "\n",
    "dummy_input = torch.randn(1, 1, 44100)\n",
    "# pruned_model = channel_prune(model, prune_ratio=0.3)\n",
    "dac_model_macs = get_model_macs(model, dummy_input)\n",
    "\n",
    "if dac_model_macs >= 1e9:\n",
    "    print(f\"DAC model MACs: {dac_model_macs/1e9:.2f}B\")\n",
    "else:\n",
    "    print(f\"DAC model MACs: {dac_model_macs/1e6:.2f}M\")\n"
   ]
  },
  {
   "cell_type": "code",
   "execution_count": 16,
   "metadata": {},
   "outputs": [],
   "source": [
    "def get_num_parameters(model: nn.Module, count_nonzero_only=False) -> int:\n",
    "    \"\"\"\n",
    "    calculate the total number of parameters of model\n",
    "    :param count_nonzero_only: only count nonzero weights\n",
    "    \"\"\"\n",
    "    num_counted_elements = 0\n",
    "    for param in model.parameters():\n",
    "        if count_nonzero_only:\n",
    "            num_counted_elements += param.count_nonzero()\n",
    "        else:\n",
    "            num_counted_elements += param.numel()\n",
    "    return num_counted_elements\n",
    "\n",
    "\n",
    "def get_model_size(model: nn.Module, data_width=32, count_nonzero_only=False) -> int:\n",
    "    \"\"\"\n",
    "    calculate the model size in bits\n",
    "    :param data_width: #bits per element\n",
    "    :param count_nonzero_only: only count nonzero weights\n",
    "    \"\"\"\n",
    "    return get_num_parameters(model, count_nonzero_only) * data_width"
   ]
  },
  {
   "cell_type": "code",
   "execution_count": 18,
   "metadata": {},
   "outputs": [
    {
     "name": "stdout",
     "output_type": "stream",
     "text": [
      "DAC model size: 2.45B\n"
     ]
    }
   ],
   "source": [
    "dac_model_size = get_model_size(model)\n",
    "\n",
    "if dac_model_size >= 1e9:\n",
    "    print(f\"DAC model size: {dac_model_size/1e9:.2f}B\")\n",
    "else:\n",
    "    print(f\"DAC model size: {dac_model_size/1e6:.2f}M\")"
   ]
  }
 ],
 "metadata": {
  "kernelspec": {
   "display_name": "venv",
   "language": "python",
   "name": "python3"
  },
  "language_info": {
   "codemirror_mode": {
    "name": "ipython",
    "version": 3
   },
   "file_extension": ".py",
   "mimetype": "text/x-python",
   "name": "python",
   "nbconvert_exporter": "python",
   "pygments_lexer": "ipython3",
   "version": "3.11.5"
  }
 },
 "nbformat": 4,
 "nbformat_minor": 2
}
