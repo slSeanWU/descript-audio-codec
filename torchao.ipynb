{
 "cells": [
  {
   "cell_type": "code",
   "execution_count": null,
   "id": "84e1281b-4d44-4169-9956-3c01690268df",
   "metadata": {},
   "outputs": [],
   "source": [
    "import dac\n",
    "from dac.model.dac import EncoderBlock, DecoderBlock, ResidualUnit\n",
    "from dac.nn.layers import Snake1d\n",
    "import torchao\n",
    "import torch\n",
    "from torchao.quantization import  DEFAULT_INT4_AUTOQUANT_CLASS_LIST"
   ]
  },
  {
   "cell_type": "code",
   "execution_count": 4,
   "id": "e0b91b16-934c-43ac-9109-37aeb852dfcf",
   "metadata": {},
   "outputs": [
    {
     "name": "stdout",
     "output_type": "stream",
     "text": [
      "[codebook size] 1024\n",
      "[# codebooks] 9\n",
      "[ignore left crop] False\n",
      "[encoder causal] False\n",
      "[encoder frame indep] False\n",
      "[decoder causal] False\n",
      "[decoder frame indep] False\n",
      "[# trainable params] 76651890\n",
      "[# trainable params (enc)] 22307968\n",
      "[# trainable params (dec)] 54104162\n",
      "done loading\n"
     ]
    }
   ],
   "source": [
    "model_path = dac.utils.download(model_type=\"44khz\")\n",
    "model = dac.DAC.load(model_path)\n",
    "model.eval()\n",
    "# model.to('cuda')\n",
    "print(\"done loading\")"
   ]
  },
  {
   "cell_type": "code",
   "execution_count": null,
   "id": "6280fe2a-aa13-4873-8959-7b8f42b03b28",
   "metadata": {},
   "outputs": [
    {
     "name": "stderr",
     "output_type": "stream",
     "text": [
      "Traceback (most recent call last):\n",
      "  File \"/home/archerdw/.local/lib/python3.9/site-packages/torch/_inductor/compile_worker/__main__.py\", line 7, in <module>\n",
      "    from torch._inductor.async_compile import pre_fork_setup\n",
      "  File \"/home/archerdw/.local/lib/python3.9/site-packages/torch/__init__.py\", line 367, in <module>\n",
      "    from torch._C import *  # noqa: F403\n",
      "ImportError: /home/archerdw/.local/lib/python3.9/site-packages/torch/lib/../../nvidia/nccl/lib/libnccl.so.2: file too short\n"
     ]
    }
   ],
   "source": [
    "use_autoquant_default = True\n",
    "\n",
    "if use_autoquant_default:\n",
    "    # perform autoquantization and torch.compile with default settings\n",
    "    model = torchao.autoquant(torch.compile(model, mode='max-autotune'))\n",
    "elif not use_autoquant_default:\n",
    "    # perform autoquantization and torch.compile with int4 support\n",
    "    model = torchao.autoquant(torch.compile(model, mode='max-autotune'), qtensor_class_list=DEFAULT_INT4_AUTOQUANT_CLASS_LIST)\n"
   ]
  },
  {
   "cell_type": "code",
   "execution_count": null,
   "id": "a58f8113-5e40-4a3d-9246-5734ad549f60",
   "metadata": {},
   "outputs": [],
   "source": [
    "sample_data = torch.randn(1, 1, 512)\n",
    "model(sample_data)"
   ]
  },
  {
   "cell_type": "code",
   "execution_count": null,
   "id": "abd692ca-80ec-4074-b3fe-a3f3794ccc16",
   "metadata": {},
   "outputs": [],
   "source": []
  }
 ],
 "metadata": {
  "kernelspec": {
   "display_name": "Python 3 (ipykernel)",
   "language": "python",
   "name": "python3"
  },
  "language_info": {
   "codemirror_mode": {
    "name": "ipython",
    "version": 3
   },
   "file_extension": ".py",
   "mimetype": "text/x-python",
   "name": "python",
   "nbconvert_exporter": "python",
   "pygments_lexer": "ipython3",
   "version": "3.9.13"
  }
 },
 "nbformat": 4,
 "nbformat_minor": 5
}
